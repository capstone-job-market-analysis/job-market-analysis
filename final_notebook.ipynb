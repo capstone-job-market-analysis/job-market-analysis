{
 "cells": [
  {
   "cell_type": "markdown",
   "id": "0b98b655-fcb8-46c6-9320-1d8a7f32b5da",
   "metadata": {},
   "source": [
    "---\n",
    "# Help Wanted\n",
    "- A study of the Impact of COVID-19 on the Texas Job Market\n",
    "---\n",
    "##### By\n",
    "- Jeff Akins\n",
    "- James Allen\n",
    "- Curtis Johansen\n",
    "- Veronica Reyes\n",
    "- Adam Talbot"
   ]
  },
  {
   "cell_type": "markdown",
   "id": "2262d2cb",
   "metadata": {},
   "source": [
    "#### \n",
    "![](https://cdn.pixabay.com/photo/2016/09/09/10/43/texas-1656861_1280.jpg)"
   ]
  },
  {
   "cell_type": "markdown",
   "id": "9c7b6a2c",
   "metadata": {},
   "source": [
    "---\n",
    "## Project Goal\n",
    "This project explored the impact of COVID-19 on the Texas job market. 98 Industries were examined using a combination of U.S. Census data and Texas Labor Market Information. Clustering analysis was used to group the industries into seven categories based on the magnitude of their job loss during the first half of 2020. For the industries that were most affected, subcategories were examined such as gender, age group, education, race, and ethnicity. Time Series modeling was then used to forecast when select industries would return to pre-COVID levels of employment. "
   ]
  },
  {
   "cell_type": "markdown",
   "id": "92e630a2-5680-4843-a4dc-93871ef530a0",
   "metadata": {},
   "source": [
    "---\n",
    "## Executive Summary\n",
    "\n",
    "After examining the impact of COVID-19 on the Texas job market, we discovered that out of the 98 industries examined, we could categorize those industries into seven distinct groupings based on their total employment trends."
   ]
  },
  {
   "cell_type": "markdown",
   "id": "8f6582ae-1785-4c34-bf98-d7815ad747dd",
   "metadata": {
    "tags": []
   },
   "source": [
    "**Goals:**\n",
    "- #####\n",
    "\n",
    "**Conclusions/Takaways:**\n",
    "- #####\n",
    "\n",
    "**Next Steps/Recommendations:**\n",
    "- #####"
   ]
  },
  {
   "cell_type": "markdown",
   "id": "7ecd6d49-3fe6-43f4-8ae9-7af4c934665c",
   "metadata": {},
   "source": [
    "---\n",
    "## Plan\n",
    "---"
   ]
  },
  {
   "cell_type": "markdown",
   "id": "a21be964-281d-4cd3-8a8c-f0f6f87168ae",
   "metadata": {},
   "source": [
    "- [x] Create README.md with data dictionary, project and business goals, come up with initial hypotheses.\n",
    "- [x] Acquire data from Kaggle, save to local .csv and create a function to automate this process. Save the function in an acquire.py file to import into the Final Report Notebook.\n",
    "- [x] Clean and prepare data for the first iteration through the pipeline, MVP preparation. Create a function to automate the process, store the function in a prepare.py module, and prepare data in Final Report Notebook by importing and using the funtion.\n",
    "- [x] Clearly define at least two hypotheses, set an alpha, run the statistical tests needed, reject or fail to reject the Null Hypothesis, and document findings and takeaways.\n",
    "- [x] Establish a baseline accuracy and document well.\n",
    "- [x] Train several different regression models.\n",
    "- [x] Evaluate models on train and validate datasets.\n",
    "- [x] Choose the model with that performs the best and evaluate that single model on the test dataset.\n",
    "- [x] Document conclusions, takeaways, and next steps in the Final Report Notebook.\n",
    "- [x] Iterate back through the pipeline imporving each phase as time permits"
   ]
  },
  {
   "cell_type": "markdown",
   "id": "b92d3223-fdd4-4169-bd2a-9a890368cbdb",
   "metadata": {},
   "source": [
    "---\n",
    "## Imports\n",
    "---"
   ]
  },
  {
   "cell_type": "code",
   "execution_count": null,
   "id": "5ab70d5f-1a4c-49a6-b346-3d3850ca978a",
   "metadata": {},
   "outputs": [],
   "source": [
    "# standard imports\n",
    "import pandas as pd\n",
    "import numpy as np\n",
    "import matplotlib.pyplot as plt\n",
    "import seaborn as sns\n",
    "\n",
    "# no yelling in the library\n",
    "import warnings\n",
    "warnings.filterwarnings(\"ignore\")\n",
    "\n",
    "# sklearn imports\n",
    "from sklearn.preprocessing import MinMaxScaler\n",
    "from sklearn.cluster import KMeans\n",
    "\n",
    "# pickle for reloading model object\n",
    "import pickle\n",
    "\n",
    "# visualization settings\n",
    "plt.rc('figure', figsize=(13, 7))\n",
    "plt.rc('font', size=16)\n",
    "sns.set_palette('tab20')\n",
    "\n",
    "# custom modules\n",
    "import wrangle as w\n",
    "import explore as e"
   ]
  },
  {
   "cell_type": "markdown",
   "id": "d326f008-3ba3-41c0-ac9d-f5f61f23eadc",
   "metadata": {},
   "source": [
    "---\n",
    "## Acquire\n",
    "Our data was acquired from the [U.S. Census Bureau](https://ledextract.ces.census.gov/static/data.html)\n",
    "\n",
    "As well as from the [Texas Labor Market](https://texaslmi.com/LMIbyCategory/QCEW)\n",
    "\n",
    "If you would like to download the exact data that we used then click the links below:\n",
    "\n",
    "[US Census Overview](https://drive.google.com/file/d/1Rteq1rsyC6E6RFdc1fZ_oVWjhUIviF_t/view?usp=sharing)\n",
    "\n",
    "[US Census with Age Subgroups](https://drive.google.com/file/d/1TOpkBlrnXzC8b66vo6SM-jXqwkgq2102/view?usp=sharing)\n",
    "\n",
    "[US Census with Education Subgroups](https://drive.google.com/file/d/1WKscioAiYuAK4wkkgMA60s5b7YG55aMB/view?usp=sharing)\n",
    "\n",
    "[US Census with Race and Ethnicity Subgroups](https://drive.google.com/file/d/1WTgBeApiKyn6hpT_FaCalN8O6sYsBANF/view?usp=sharing)"
   ]
  },
  {
   "cell_type": "markdown",
   "id": "01097c11",
   "metadata": {},
   "source": [
    "#### Below are the full Dataframes before Cleaning:"
   ]
  },
  {
   "cell_type": "code",
   "execution_count": null,
   "id": "6cc71712",
   "metadata": {},
   "outputs": [],
   "source": [
    "# Census Data with no Subgroups:\n",
    "census = pd.read_csv('census_data_overview.csv')\n",
    "# Census Data with Education Subgroups:\n",
    "census_ed = pd.read_csv('LaborMarketWEducation.csv')\n",
    "# Census Data with Age Subgroups:\n",
    "census_age = pd.read_csv('LaborMarketWAge.csv')\n",
    "# Census Data with Race and Ethnicity Subgroups:\n",
    "census_race = pd.read_csv('LaborMarketWRace.csv')"
   ]
  },
  {
   "cell_type": "markdown",
   "id": "cea51c9c-1364-49df-9971-aae7f4bc2610",
   "metadata": {},
   "source": [
    "### Takeaways:\n",
    "- #####"
   ]
  },
  {
   "cell_type": "markdown",
   "id": "7d1018ec-8b48-4444-b830-dd3722cfad07",
   "metadata": {},
   "source": [
    "---\n",
    "## Prepare\n",
    "---"
   ]
  },
  {
   "cell_type": "markdown",
   "id": "2cf9bd0b-774f-4cf6-b715-2493a34388d7",
   "metadata": {},
   "source": [
    "### Clean"
   ]
  },
  {
   "cell_type": "code",
   "execution_count": null,
   "id": "f576c7bc-8d14-42f6-ac78-d2666fb850c6",
   "metadata": {},
   "outputs": [],
   "source": [
    "# Function to Clean the Texas Census Data with no Subgroups:\n",
    "census_light = w.wrangle_census_data()"
   ]
  },
  {
   "cell_type": "code",
   "execution_count": null,
   "id": "69f8011d-d0df-4b09-873d-7321f3300b8a",
   "metadata": {},
   "outputs": [],
   "source": [
    "# Function to Clean the Texas Census Data with Education Subgroups:\n",
    "ed = w.education_census_data()"
   ]
  },
  {
   "cell_type": "code",
   "execution_count": null,
   "id": "f532506b",
   "metadata": {},
   "outputs": [],
   "source": [
    "# Function to Clean the Texas Census Data with Age Subgroups:\n",
    "age = w.age_census_data()"
   ]
  },
  {
   "cell_type": "code",
   "execution_count": null,
   "id": "a635b723",
   "metadata": {},
   "outputs": [],
   "source": [
    "# Function to Clean the Texas Census Data with Race and Ethnicity Subgroups:\n",
    "r = w.race_census_data()"
   ]
  },
  {
   "cell_type": "code",
   "execution_count": null,
   "id": "2d7322fe",
   "metadata": {},
   "outputs": [],
   "source": []
  },
  {
   "cell_type": "markdown",
   "id": "0019d4bd-5f80-416b-a247-3ece732ce212",
   "metadata": {},
   "source": [
    "---"
   ]
  },
  {
   "cell_type": "markdown",
   "id": "a720e471-3cb8-46c8-886c-44d3016db78a",
   "metadata": {},
   "source": [
    "#### Preparation Performed:\n",
    "- #####"
   ]
  },
  {
   "cell_type": "markdown",
   "id": "fe2ee4f2-e8c2-4904-a025-e8d0181beca3",
   "metadata": {},
   "source": [
    "---\n",
    "## Explore \n",
    "---"
   ]
  },
  {
   "cell_type": "code",
   "execution_count": null,
   "id": "5635e34f",
   "metadata": {},
   "outputs": [],
   "source": [
    "# Function to calculate Texas Job Loss by Industry over the first half of 2020:\n",
    "job_loss = e.q1_minus_q3_emp(census_light)"
   ]
  },
  {
   "cell_type": "markdown",
   "id": "f9d16a3e",
   "metadata": {},
   "source": [
    "#### Plot of Texas Job Losses by Industry over the first half of 2020"
   ]
  },
  {
   "cell_type": "code",
   "execution_count": null,
   "id": "824e6d6e",
   "metadata": {},
   "outputs": [],
   "source": [
    "# Time to graph\n",
    "plt.figure(figsize=(16,8))\n",
    "sns.lineplot(x=\"date\", y=\"Emp\", \n",
    "                palette=\"ch:r=-.2,d=.3_r\",\n",
    "                data=census_light)\n",
    "plt.title('Texas Employment Over Time', fontsize=16)\n",
    "plt.xlabel('Date by Quarter')\n",
    "plt.ylabel('Employment Numbers')\n",
    "plt.show()"
   ]
  },
  {
   "cell_type": "code",
   "execution_count": null,
   "id": "64ba1e73",
   "metadata": {},
   "outputs": [],
   "source": [
    "sns.set_theme(style=\"whitegrid\")\n",
    "plt.figure(figsize=(16,40))\n",
    "sns.barplot(x=\"q1_minus_q3\", y=\"industry_name\",\n",
    "                palette=\"ch:r=-.2,d=.3_r\",\n",
    "                data=job_loss, alpha=1)\n",
    "plt.title('Texas Jobs Lost/Gain by Industry for Q2 and Q3 of 2020 ', fontsize=16)\n",
    "plt.xlabel('Number of Jobs Lost')\n",
    "plt.ylabel('Industries')\n",
    "plt.show()"
   ]
  },
  {
   "cell_type": "markdown",
   "id": "cd2e6dd8",
   "metadata": {},
   "source": [
    "#### Timeline of Employment for the Top Three Industries in the Above Chart"
   ]
  },
  {
   "cell_type": "code",
   "execution_count": null,
   "id": "7bd606d9",
   "metadata": {},
   "outputs": [],
   "source": [
    "census_lighter = e.select_industries(census_light, 722, [561, 611])\n",
    "plt.figure(figsize=(14,8))\n",
    "sns.lineplot(x=\"date\", y=\"Sep\",\n",
    "            hue=\"industry_name\", palette=\"ch:r=-.2,d=.3_r\",\n",
    "            data=census_lighter)\n",
    "plt.show"
   ]
  },
  {
   "cell_type": "code",
   "execution_count": null,
   "id": "1cf3af2e",
   "metadata": {},
   "outputs": [],
   "source": []
  },
  {
   "cell_type": "markdown",
   "id": "c7787ab3-195f-406a-ab90-2f9fc7102f0d",
   "metadata": {},
   "source": [
    "### All Level 3 Industries\n",
    "---"
   ]
  },
  {
   "cell_type": "code",
   "execution_count": null,
   "id": "bf6436a8-6d4b-4ff0-bd66-5dfdb1600262",
   "metadata": {},
   "outputs": [],
   "source": []
  },
  {
   "cell_type": "code",
   "execution_count": null,
   "id": "a809a3b1-f795-4175-801a-1ea5493f81de",
   "metadata": {},
   "outputs": [],
   "source": []
  },
  {
   "cell_type": "markdown",
   "id": "3033b4e1-f9f3-4244-a74c-22ee3f01f0c2",
   "metadata": {},
   "source": [
    "#### Takeaways:\n",
    "- #####"
   ]
  },
  {
   "cell_type": "markdown",
   "id": "4f45a4cf-0363-4745-bbd7-247cd9a3a1c4",
   "metadata": {},
   "source": [
    "---\n",
    "### Demographic Subgroups\n",
    "---\n"
   ]
  },
  {
   "cell_type": "code",
   "execution_count": null,
   "id": "a33b4f35-0cdd-4231-96b1-b2cb07df13e8",
   "metadata": {},
   "outputs": [],
   "source": []
  },
  {
   "cell_type": "code",
   "execution_count": null,
   "id": "a6d118a6-8014-4ea6-9ed9-877079a89d11",
   "metadata": {},
   "outputs": [],
   "source": []
  },
  {
   "cell_type": "markdown",
   "id": "6f8acf8c-248c-46d4-8bcf-d0eed9bd849d",
   "metadata": {},
   "source": [
    "#### Takeaways:\n",
    "- ######"
   ]
  },
  {
   "cell_type": "markdown",
   "id": "03bd8e69-37b3-4180-b825-2e1038287539",
   "metadata": {},
   "source": [
    "---\n",
    "### Clustering\n",
    "---\n"
   ]
  },
  {
   "cell_type": "code",
   "execution_count": null,
   "id": "771ef350-6cd6-4741-b301-96ccace4c8fc",
   "metadata": {},
   "outputs": [],
   "source": [
    "# load model\n",
    "filename = 'finalized_model.sav'\n",
    "loaded_model = pickle.load(open(filename, 'rb'))\n",
    "loaded_model"
   ]
  },
  {
   "cell_type": "code",
   "execution_count": null,
   "id": "eb7f166e-5ef9-40f8-af4c-1e607bf3f9bf",
   "metadata": {},
   "outputs": [],
   "source": [
    "# Reset plot background\n",
    "plt.style.use('seaborn-darkgrid')\n",
    "# acquire and prep data\n",
    "df = w.get_tx_data()\n",
    "# subset data into a dictionary of dfs\n",
    "industry_df_dict, ind_list = w.create_df_dict(df)\n",
    "# charaterize series of data for each industry to make time series data into continuous data we can cluster on\n",
    "char_df = e.create_char_df(industry_df_dict, ind_list)\n",
    "# scale these characterizations for clustering\n",
    "scaled_char_df = e.scale(char_df, MinMaxScaler())\n",
    "# cluster and plot results\n",
    "char_df = e.load_cluster_and_plot_no_legend(loaded_model, scaled_char_df, char_df, df)"
   ]
  },
  {
   "cell_type": "markdown",
   "id": "3c6e3635-a1c1-4f79-847a-c36425b86560",
   "metadata": {},
   "source": [
    "---\n",
    "**Human-Friendly Labels for each Cluster:**\n",
    "- Moderate Negative Impact, Quick Recovery\n",
    "- Positively Impacted\n",
    "- Significant Negative Impact, Mostly Recovered\n",
    "- Significant Negative Impact, Mostly Recovered, Highly Seasonal\n",
    "- No Impact\n",
    "- Moderate Negative Impact, Slow or No Recovery\n",
    "- Minor Negative Impact, Quick Recovery\n",
    "**See if you can identify which is which!**\n",
    "\n",
    "---"
   ]
  },
  {
   "cell_type": "code",
   "execution_count": null,
   "id": "fa24da65-4f15-436a-8930-9a50510795ed",
   "metadata": {},
   "outputs": [],
   "source": [
    "char_df = e.load_cluster_and_plot_w_legend(loaded_model, scaled_char_df, char_df, df)"
   ]
  },
  {
   "cell_type": "code",
   "execution_count": null,
   "id": "35fa6685-2ebf-4852-81f5-e7dac3151ca9",
   "metadata": {},
   "outputs": [],
   "source": [
    "# this function will do whole pipeline from acquire to final clustering plots\n",
    "# e.load_acquire_to_cluster(loaded_model)"
   ]
  },
  {
   "cell_type": "markdown",
   "id": "83869e4d-5890-464e-a618-d00a91c7e7ee",
   "metadata": {},
   "source": [
    "#### Takeaways:\n",
    "- Clustering models were able to group times series data for different industries into groups that make sense\n",
    "- The clusters produced along with number of industries in each group were:\n",
    "    - Moderate Negative Impact, Quick Recovery : 38\n",
    "    - Minor Negative Impact, Quick Recovery : 24\n",
    "    - Moderate Negative Impact, Slow or No Recovery : 9\n",
    "    - Significant Negative Impact, Mostly Recovered : 9\n",
    "    - Positively Impacted : 9\n",
    "    - Significant Negative Impact, Mostly Recovered, Highly Seasonal : 3\n",
    "    - No Impact: 3"
   ]
  },
  {
   "cell_type": "markdown",
   "id": "c52387ab-e3a5-476f-90d7-36fc02f0f876",
   "metadata": {},
   "source": [
    "---\n",
    "### Explore Takeaways:\n",
    "- #####"
   ]
  },
  {
   "cell_type": "markdown",
   "id": "df66015b-8048-45df-8c8a-6d22ad738b3d",
   "metadata": {},
   "source": [
    "---\n",
    "## Conclusions and Next Steps\n",
    "---"
   ]
  },
  {
   "cell_type": "markdown",
   "id": "9aebe60c-1c2b-403b-9f1b-7322c5c39f64",
   "metadata": {},
   "source": [
    "**Conclusions/Takaways:**\n",
    "- #####\n",
    "\n",
    "**Next Steps/Recommendations:**\n",
    "- #####"
   ]
  }
 ],
 "metadata": {
  "kernelspec": {
   "display_name": "Python 3",
   "language": "python",
   "name": "python3"
  },
  "language_info": {
   "codemirror_mode": {
    "name": "ipython",
    "version": 3
   },
   "file_extension": ".py",
   "mimetype": "text/x-python",
   "name": "python",
   "nbconvert_exporter": "python",
   "pygments_lexer": "ipython3",
   "version": "3.8.8"
  }
 },
 "nbformat": 4,
 "nbformat_minor": 5
}
