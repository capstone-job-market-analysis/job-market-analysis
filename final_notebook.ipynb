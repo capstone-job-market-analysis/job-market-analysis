{
 "cells": [
  {
   "cell_type": "markdown",
   "id": "0b98b655-fcb8-46c6-9320-1d8a7f32b5da",
   "metadata": {},
   "source": [
    "---\n",
    "# Project Title\n",
    "---"
   ]
  },
  {
   "cell_type": "markdown",
   "id": "329400cc-69ba-4f51-ba2e-0c7deaf3cee1",
   "metadata": {},
   "source": [
    "Name - Date"
   ]
  },
  {
   "cell_type": "code",
   "execution_count": 2,
   "id": "a8bce52b-4f39-41bd-8a43-7d5b758fcee3",
   "metadata": {},
   "outputs": [],
   "source": [
    "# covert to markdown and add image here\n",
    "# <img src=\"https://s19538.pcdn.co/wp-content/uploads/2018/08/Car-Gurus-Logo.jpg\" alt=\"Car Gurus\" title=\"Car Gurus Logo\" width=\"600\" height=\"300\" />"
   ]
  },
  {
   "cell_type": "markdown",
   "id": "92e630a2-5680-4843-a4dc-93871ef530a0",
   "metadata": {},
   "source": [
    "---\n",
    "## Executive Summary\n",
    "---"
   ]
  },
  {
   "cell_type": "markdown",
   "id": "8f6582ae-1785-4c34-bf98-d7815ad747dd",
   "metadata": {
    "tags": []
   },
   "source": [
    "**Goals:**\n",
    "- #####\n",
    "\n",
    "**Conclusions/Takaways:**\n",
    "- #####\n",
    "\n",
    "**Next Steps/Recommendations:**\n",
    "- #####"
   ]
  },
  {
   "cell_type": "markdown",
   "id": "7ecd6d49-3fe6-43f4-8ae9-7af4c934665c",
   "metadata": {},
   "source": [
    "---\n",
    "## Plan\n",
    "---"
   ]
  },
  {
   "cell_type": "markdown",
   "id": "a21be964-281d-4cd3-8a8c-f0f6f87168ae",
   "metadata": {},
   "source": [
    "- [x] Create README.md with data dictionary, project and business goals, come up with initial hypotheses.\n",
    "- [x] Acquire data from Kaggle, save to local .csv and create a function to automate this process. Save the function in an acquire.py file to import into the Final Report Notebook.\n",
    "- [x] Clean and prepare data for the first iteration through the pipeline, MVP preparation. Create a function to automate the process, store the function in a prepare.py module, and prepare data in Final Report Notebook by importing and using the funtion.\n",
    "- [x] Clearly define at least two hypotheses, set an alpha, run the statistical tests needed, reject or fail to reject the Null Hypothesis, and document findings and takeaways.\n",
    "- [x] Establish a baseline accuracy and document well.\n",
    "- [x] Train several different regression models.\n",
    "- [x] Evaluate models on train and validate datasets.\n",
    "- [x] Choose the model with that performs the best and evaluate that single model on the test dataset.\n",
    "- [x] Document conclusions, takeaways, and next steps in the Final Report Notebook.\n",
    "- [x] Iterate back through the pipeline imporving each phase as time permits"
   ]
  },
  {
   "cell_type": "markdown",
   "id": "b92d3223-fdd4-4169-bd2a-9a890368cbdb",
   "metadata": {},
   "source": [
    "---\n",
    "## Imports\n",
    "---"
   ]
  },
  {
   "cell_type": "code",
   "execution_count": 1,
   "id": "5ab70d5f-1a4c-49a6-b346-3d3850ca978a",
   "metadata": {},
   "outputs": [],
   "source": [
    "# standard imports\n",
    "import pandas as pd\n",
    "import numpy as np\n",
    "import seaborn as sns\n",
    "import matplotlib.pyplot as plt\n",
    "from scipy import stats\n",
    "\n",
    "# sklearn imports\n",
    "from sklearn.preprocessing import MinMaxScaler\n",
    "from sklearn.cluster import KMeans\n",
    "from sklearn.metrics import silhouette_score\n",
    "\n",
    "# ignore warnings\n",
    "import warnings\n",
    "warnings.filterwarnings(\"ignore\")\n",
    "\n",
    "# Custom module imports\n",
    "# import acquire as a\n",
    "# import prepare as p\n",
    "# import explore as ex\n",
    "# import evaluate as ev\n",
    "\n",
    "# visualization settings\n",
    "plt.rc('figure', figsize=(13, 7))\n",
    "plt.rc('font', size=16)\n",
    "plt.style.use('seaborn-darkgrid')\n",
    "sns.set_palette('tab20')"
   ]
  },
  {
   "cell_type": "markdown",
   "id": "d326f008-3ba3-41c0-ac9d-f5f61f23eadc",
   "metadata": {},
   "source": [
    "---\n",
    "## Acquire\n",
    "---"
   ]
  },
  {
   "cell_type": "markdown",
   "id": "cea51c9c-1364-49df-9971-aae7f4bc2610",
   "metadata": {},
   "source": [
    "### Takeaways:\n",
    "- #####"
   ]
  },
  {
   "cell_type": "markdown",
   "id": "7d1018ec-8b48-4444-b830-dd3722cfad07",
   "metadata": {},
   "source": [
    "---\n",
    "## Prepare\n",
    "---"
   ]
  },
  {
   "cell_type": "markdown",
   "id": "2cf9bd0b-774f-4cf6-b715-2493a34388d7",
   "metadata": {},
   "source": [
    "### Clean"
   ]
  },
  {
   "cell_type": "code",
   "execution_count": null,
   "id": "f576c7bc-8d14-42f6-ac78-d2666fb850c6",
   "metadata": {},
   "outputs": [],
   "source": []
  },
  {
   "cell_type": "code",
   "execution_count": null,
   "id": "69f8011d-d0df-4b09-873d-7321f3300b8a",
   "metadata": {},
   "outputs": [],
   "source": []
  },
  {
   "cell_type": "markdown",
   "id": "a6c73536-e61c-4cd7-9aff-627deb62bdd7",
   "metadata": {},
   "source": [
    "---\n",
    "### Split"
   ]
  },
  {
   "cell_type": "code",
   "execution_count": null,
   "id": "38fc4dfc-553a-407c-9158-1b3146e4699c",
   "metadata": {},
   "outputs": [],
   "source": []
  },
  {
   "cell_type": "code",
   "execution_count": null,
   "id": "1a3e8bcd-4637-4041-bcb4-78dc5ad1f223",
   "metadata": {},
   "outputs": [],
   "source": []
  },
  {
   "cell_type": "markdown",
   "id": "107c3dba-f7a3-4c21-83aa-922412ebe7ea",
   "metadata": {},
   "source": [
    "---\n",
    "### Imputation"
   ]
  },
  {
   "cell_type": "code",
   "execution_count": null,
   "id": "3d2a2855-c1af-4514-911a-ffd04774ec29",
   "metadata": {},
   "outputs": [],
   "source": []
  },
  {
   "cell_type": "code",
   "execution_count": null,
   "id": "79148f2f-6225-4d48-90d1-ae2b5c8f7066",
   "metadata": {},
   "outputs": [],
   "source": []
  },
  {
   "cell_type": "markdown",
   "id": "05fc7831-78f5-435a-87c7-24d807ee132c",
   "metadata": {},
   "source": [
    "---\n",
    "### Scale for Clustering"
   ]
  },
  {
   "cell_type": "code",
   "execution_count": null,
   "id": "dbcaa5bd-f41e-4864-811c-d147cb79ee56",
   "metadata": {},
   "outputs": [],
   "source": []
  },
  {
   "cell_type": "code",
   "execution_count": null,
   "id": "4dd8a806-b46f-4ac3-9659-173db7465736",
   "metadata": {},
   "outputs": [],
   "source": []
  },
  {
   "cell_type": "markdown",
   "id": "0019d4bd-5f80-416b-a247-3ece732ce212",
   "metadata": {},
   "source": [
    "---"
   ]
  },
  {
   "cell_type": "markdown",
   "id": "a720e471-3cb8-46c8-886c-44d3016db78a",
   "metadata": {},
   "source": [
    "#### Preparation Performed:\n",
    "- #####"
   ]
  },
  {
   "cell_type": "markdown",
   "id": "fe2ee4f2-e8c2-4904-a025-e8d0181beca3",
   "metadata": {},
   "source": [
    "---\n",
    "## Explore \n",
    "---"
   ]
  },
  {
   "cell_type": "markdown",
   "id": "c7787ab3-195f-406a-ab90-2f9fc7102f0d",
   "metadata": {},
   "source": [
    "### All Level 3 Industries\n",
    "---"
   ]
  },
  {
   "cell_type": "code",
   "execution_count": null,
   "id": "bf6436a8-6d4b-4ff0-bd66-5dfdb1600262",
   "metadata": {},
   "outputs": [],
   "source": []
  },
  {
   "cell_type": "code",
   "execution_count": null,
   "id": "a809a3b1-f795-4175-801a-1ea5493f81de",
   "metadata": {},
   "outputs": [],
   "source": []
  },
  {
   "cell_type": "markdown",
   "id": "3033b4e1-f9f3-4244-a74c-22ee3f01f0c2",
   "metadata": {},
   "source": [
    "#### Takeaways:\n",
    "- #####"
   ]
  },
  {
   "cell_type": "markdown",
   "id": "4f45a4cf-0363-4745-bbd7-247cd9a3a1c4",
   "metadata": {},
   "source": [
    "---\n",
    "### Demographic Subgroups\n",
    "---\n"
   ]
  },
  {
   "cell_type": "code",
   "execution_count": null,
   "id": "a33b4f35-0cdd-4231-96b1-b2cb07df13e8",
   "metadata": {},
   "outputs": [],
   "source": []
  },
  {
   "cell_type": "code",
   "execution_count": null,
   "id": "a6d118a6-8014-4ea6-9ed9-877079a89d11",
   "metadata": {},
   "outputs": [],
   "source": []
  },
  {
   "cell_type": "markdown",
   "id": "6f8acf8c-248c-46d4-8bcf-d0eed9bd849d",
   "metadata": {},
   "source": [
    "#### Takeaways:\n",
    "- ######"
   ]
  },
  {
   "cell_type": "markdown",
   "id": "03bd8e69-37b3-4180-b825-2e1038287539",
   "metadata": {},
   "source": [
    "---\n",
    "### Clustering\n",
    "---\n"
   ]
  },
  {
   "cell_type": "code",
   "execution_count": null,
   "id": "cf3700e3-6a1e-487f-ac77-bfdd4c36432c",
   "metadata": {},
   "outputs": [],
   "source": []
  },
  {
   "cell_type": "code",
   "execution_count": null,
   "id": "a18bcf4b-17ae-4dc7-8f4b-e96aca658731",
   "metadata": {},
   "outputs": [],
   "source": []
  },
  {
   "cell_type": "markdown",
   "id": "83869e4d-5890-464e-a618-d00a91c7e7ee",
   "metadata": {},
   "source": [
    "#### Takeaways:\n",
    "- ######"
   ]
  },
  {
   "cell_type": "markdown",
   "id": "c52387ab-e3a5-476f-90d7-36fc02f0f876",
   "metadata": {},
   "source": [
    "---\n",
    "### Explore Takeaways:\n",
    "- #####"
   ]
  },
  {
   "cell_type": "markdown",
   "id": "9cdfd877-1b5e-4725-9601-191771a8572e",
   "metadata": {},
   "source": [
    "---\n",
    "## Model/Evaluate\n",
    "---"
   ]
  },
  {
   "cell_type": "code",
   "execution_count": null,
   "id": "3769a616-cb1b-4c09-9410-f0e4d57c458f",
   "metadata": {},
   "outputs": [],
   "source": []
  },
  {
   "cell_type": "code",
   "execution_count": null,
   "id": "aca6b7ab-c62e-4e48-9015-7d8a3a8741c3",
   "metadata": {},
   "outputs": [],
   "source": []
  },
  {
   "cell_type": "markdown",
   "id": "df66015b-8048-45df-8c8a-6d22ad738b3d",
   "metadata": {},
   "source": [
    "---\n",
    "## Conclusions and Next Steps\n",
    "---"
   ]
  },
  {
   "cell_type": "markdown",
   "id": "9aebe60c-1c2b-403b-9f1b-7322c5c39f64",
   "metadata": {},
   "source": [
    "**Conclusions/Takaways:**\n",
    "- #####\n",
    "\n",
    "**Next Steps/Recommendations:**\n",
    "- #####"
   ]
  }
 ],
 "metadata": {
  "kernelspec": {
   "display_name": "Python 3",
   "language": "python",
   "name": "python3"
  },
  "language_info": {
   "codemirror_mode": {
    "name": "ipython",
    "version": 3
   },
   "file_extension": ".py",
   "mimetype": "text/x-python",
   "name": "python",
   "nbconvert_exporter": "python",
   "pygments_lexer": "ipython3",
   "version": "3.8.8"
  }
 },
 "nbformat": 4,
 "nbformat_minor": 5
}
